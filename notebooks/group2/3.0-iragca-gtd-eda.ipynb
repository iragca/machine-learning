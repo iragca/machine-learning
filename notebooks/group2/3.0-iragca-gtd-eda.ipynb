{
 "cells": [
  {
   "cell_type": "code",
   "execution_count": 6,
   "metadata": {},
   "outputs": [],
   "source": [
    "import matplotlib.pyplot as plt\n",
    "import polars as pl\n",
    "import pandas as pd\n",
    "import seaborn as sns\n",
    "from matplotlib.style import reload_library\n",
    "from sklearn.model_selection import train_test_split\n",
    "from sklearn.neighbors import KNeighborsClassifier\n",
    "\n",
    "from machine_learning.config import EXTERNAL_DATA_DIR, MPLSTYLE_DIR"
   ]
  },
  {
   "cell_type": "code",
   "execution_count": 4,
   "metadata": {},
   "outputs": [],
   "source": [
    "reload_library()\n",
    "plt.style.use(MPLSTYLE_DIR / \"iragca_ml.mplstyle\")"
   ]
  },
  {
   "cell_type": "code",
   "execution_count": 11,
   "metadata": {},
   "outputs": [
    {
     "name": "stderr",
     "output_type": "stream",
     "text": [
      "C:\\Users\\Andrei\\AppData\\Local\\Temp\\ipykernel_23280\\1708260268.py:3: DtypeWarning: Columns (4,31,33,54,61,62,63,76,79,90,92,94,96,114,115,121) have mixed types. Specify dtype option on import or set low_memory=False.\n",
      "  RAW_DATA = pl.DataFrame(pd.read_csv(DATA_PATH / \"globalterrorismdb_0522dist.csv\"))\n"
     ]
    },
    {
     "data": {
      "text/html": [
       "<div><style>\n",
       ".dataframe > thead > tr,\n",
       ".dataframe > tbody > tr {\n",
       "  text-align: right;\n",
       "  white-space: pre-wrap;\n",
       "}\n",
       "</style>\n",
       "<small>shape: (209_706, 135)</small><table border=\"1\" class=\"dataframe\"><thead><tr><th>eventid</th><th>iyear</th><th>imonth</th><th>iday</th><th>approxdate</th><th>extended</th><th>resolution</th><th>country</th><th>country_txt</th><th>region</th><th>region_txt</th><th>provstate</th><th>city</th><th>latitude</th><th>longitude</th><th>specificity</th><th>vicinity</th><th>location</th><th>summary</th><th>crit1</th><th>crit2</th><th>crit3</th><th>doubtterr</th><th>alternative</th><th>alternative_txt</th><th>multiple</th><th>success</th><th>suicide</th><th>attacktype1</th><th>attacktype1_txt</th><th>attacktype2</th><th>attacktype2_txt</th><th>attacktype3</th><th>attacktype3_txt</th><th>targtype1</th><th>targtype1_txt</th><th>targsubtype1</th><th>&hellip;</th><th>nkill</th><th>nkillus</th><th>nkillter</th><th>nwound</th><th>nwoundus</th><th>nwoundte</th><th>property</th><th>propextent</th><th>propextent_txt</th><th>propvalue</th><th>propcomment</th><th>ishostkid</th><th>nhostkid</th><th>nhostkidus</th><th>nhours</th><th>ndays</th><th>divert</th><th>kidhijcountry</th><th>ransom</th><th>ransomamt</th><th>ransomamtus</th><th>ransompaid</th><th>ransompaidus</th><th>ransomnote</th><th>hostkidoutcome</th><th>hostkidoutcome_txt</th><th>nreleased</th><th>addnotes</th><th>scite1</th><th>scite2</th><th>scite3</th><th>dbsource</th><th>INT_LOG</th><th>INT_IDEO</th><th>INT_MISC</th><th>INT_ANY</th><th>related</th></tr><tr><td>i64</td><td>i64</td><td>i64</td><td>i64</td><td>str</td><td>i64</td><td>str</td><td>i64</td><td>str</td><td>i64</td><td>str</td><td>str</td><td>str</td><td>f64</td><td>f64</td><td>f64</td><td>i64</td><td>str</td><td>str</td><td>i64</td><td>i64</td><td>i64</td><td>i64</td><td>f64</td><td>str</td><td>f64</td><td>i64</td><td>i64</td><td>i64</td><td>str</td><td>f64</td><td>str</td><td>f64</td><td>str</td><td>i64</td><td>str</td><td>f64</td><td>&hellip;</td><td>f64</td><td>f64</td><td>f64</td><td>f64</td><td>f64</td><td>f64</td><td>i64</td><td>f64</td><td>str</td><td>f64</td><td>str</td><td>f64</td><td>f64</td><td>f64</td><td>f64</td><td>f64</td><td>str</td><td>str</td><td>f64</td><td>f64</td><td>f64</td><td>f64</td><td>f64</td><td>str</td><td>f64</td><td>str</td><td>f64</td><td>str</td><td>str</td><td>str</td><td>str</td><td>str</td><td>i64</td><td>i64</td><td>i64</td><td>i64</td><td>str</td></tr></thead><tbody><tr><td>197000000001</td><td>1970</td><td>7</td><td>2</td><td>null</td><td>0</td><td>null</td><td>58</td><td>&quot;Dominican Republic&quot;</td><td>2</td><td>&quot;Central America &amp; Caribbean&quot;</td><td>&quot;National&quot;</td><td>&quot;Santo Domingo&quot;</td><td>18.456792</td><td>-69.951164</td><td>1.0</td><td>0</td><td>null</td><td>null</td><td>1</td><td>1</td><td>1</td><td>0</td><td>null</td><td>null</td><td>0.0</td><td>1</td><td>0</td><td>1</td><td>&quot;Assassination&quot;</td><td>null</td><td>null</td><td>null</td><td>null</td><td>14</td><td>&quot;Private Citizens &amp; Property&quot;</td><td>68.0</td><td>&hellip;</td><td>1.0</td><td>null</td><td>null</td><td>0.0</td><td>null</td><td>null</td><td>0</td><td>null</td><td>null</td><td>null</td><td>null</td><td>0.0</td><td>null</td><td>null</td><td>null</td><td>null</td><td>null</td><td>null</td><td>0.0</td><td>null</td><td>null</td><td>null</td><td>null</td><td>null</td><td>null</td><td>null</td><td>null</td><td>null</td><td>null</td><td>null</td><td>null</td><td>&quot;PGIS&quot;</td><td>0</td><td>0</td><td>0</td><td>0</td><td>null</td></tr><tr><td>197000000002</td><td>1970</td><td>0</td><td>0</td><td>null</td><td>0</td><td>null</td><td>130</td><td>&quot;Mexico&quot;</td><td>1</td><td>&quot;North America&quot;</td><td>&quot;Federal&quot;</td><td>&quot;Mexico city&quot;</td><td>19.371887</td><td>-99.086624</td><td>1.0</td><td>0</td><td>null</td><td>null</td><td>1</td><td>1</td><td>1</td><td>0</td><td>null</td><td>null</td><td>0.0</td><td>1</td><td>0</td><td>6</td><td>&quot;Hostage Taking (Kidnapping)&quot;</td><td>null</td><td>null</td><td>null</td><td>null</td><td>7</td><td>&quot;Government (Diplomatic)&quot;</td><td>45.0</td><td>&hellip;</td><td>0.0</td><td>null</td><td>null</td><td>0.0</td><td>null</td><td>null</td><td>0</td><td>null</td><td>null</td><td>null</td><td>null</td><td>1.0</td><td>1.0</td><td>0.0</td><td>null</td><td>null</td><td>null</td><td>&quot;Mexico&quot;</td><td>1.0</td><td>800000.0</td><td>null</td><td>null</td><td>null</td><td>null</td><td>null</td><td>null</td><td>null</td><td>null</td><td>null</td><td>null</td><td>null</td><td>&quot;PGIS&quot;</td><td>0</td><td>1</td><td>1</td><td>1</td><td>null</td></tr><tr><td>197001000001</td><td>1970</td><td>1</td><td>0</td><td>null</td><td>0</td><td>null</td><td>160</td><td>&quot;Philippines&quot;</td><td>5</td><td>&quot;Southeast Asia&quot;</td><td>&quot;Tarlac&quot;</td><td>&quot;Unknown&quot;</td><td>15.478598</td><td>120.599741</td><td>4.0</td><td>0</td><td>null</td><td>null</td><td>1</td><td>1</td><td>1</td><td>0</td><td>null</td><td>null</td><td>0.0</td><td>1</td><td>0</td><td>1</td><td>&quot;Assassination&quot;</td><td>null</td><td>null</td><td>null</td><td>null</td><td>10</td><td>&quot;Journalists &amp; Media&quot;</td><td>54.0</td><td>&hellip;</td><td>1.0</td><td>null</td><td>null</td><td>0.0</td><td>null</td><td>null</td><td>0</td><td>null</td><td>null</td><td>null</td><td>null</td><td>0.0</td><td>null</td><td>null</td><td>null</td><td>null</td><td>null</td><td>null</td><td>0.0</td><td>null</td><td>null</td><td>null</td><td>null</td><td>null</td><td>null</td><td>null</td><td>null</td><td>null</td><td>null</td><td>null</td><td>null</td><td>&quot;PGIS&quot;</td><td>-9</td><td>-9</td><td>1</td><td>1</td><td>null</td></tr><tr><td>197001000002</td><td>1970</td><td>1</td><td>0</td><td>null</td><td>0</td><td>null</td><td>78</td><td>&quot;Greece&quot;</td><td>8</td><td>&quot;Western Europe&quot;</td><td>&quot;Attica&quot;</td><td>&quot;Athens&quot;</td><td>37.99749</td><td>23.762728</td><td>1.0</td><td>0</td><td>null</td><td>null</td><td>1</td><td>1</td><td>1</td><td>0</td><td>null</td><td>null</td><td>0.0</td><td>1</td><td>0</td><td>3</td><td>&quot;Bombing/Explosion&quot;</td><td>null</td><td>null</td><td>null</td><td>null</td><td>7</td><td>&quot;Government (Diplomatic)&quot;</td><td>46.0</td><td>&hellip;</td><td>null</td><td>null</td><td>null</td><td>null</td><td>null</td><td>null</td><td>1</td><td>null</td><td>null</td><td>null</td><td>null</td><td>0.0</td><td>null</td><td>null</td><td>null</td><td>null</td><td>null</td><td>null</td><td>0.0</td><td>null</td><td>null</td><td>null</td><td>null</td><td>null</td><td>null</td><td>null</td><td>null</td><td>null</td><td>null</td><td>null</td><td>null</td><td>&quot;PGIS&quot;</td><td>-9</td><td>-9</td><td>1</td><td>1</td><td>null</td></tr><tr><td>197001000003</td><td>1970</td><td>1</td><td>0</td><td>null</td><td>0</td><td>null</td><td>101</td><td>&quot;Japan&quot;</td><td>4</td><td>&quot;East Asia&quot;</td><td>&quot;Fukouka&quot;</td><td>&quot;Fukouka&quot;</td><td>33.580412</td><td>130.396361</td><td>1.0</td><td>0</td><td>null</td><td>null</td><td>1</td><td>1</td><td>1</td><td>-9</td><td>null</td><td>null</td><td>0.0</td><td>1</td><td>0</td><td>7</td><td>&quot;Facility/Infrastructure Attack&quot;</td><td>null</td><td>null</td><td>null</td><td>null</td><td>7</td><td>&quot;Government (Diplomatic)&quot;</td><td>46.0</td><td>&hellip;</td><td>null</td><td>null</td><td>null</td><td>null</td><td>null</td><td>null</td><td>1</td><td>null</td><td>null</td><td>null</td><td>null</td><td>0.0</td><td>null</td><td>null</td><td>null</td><td>null</td><td>null</td><td>null</td><td>0.0</td><td>null</td><td>null</td><td>null</td><td>null</td><td>null</td><td>null</td><td>null</td><td>null</td><td>null</td><td>null</td><td>null</td><td>null</td><td>&quot;PGIS&quot;</td><td>-9</td><td>-9</td><td>1</td><td>1</td><td>null</td></tr><tr><td>&hellip;</td><td>&hellip;</td><td>&hellip;</td><td>&hellip;</td><td>&hellip;</td><td>&hellip;</td><td>&hellip;</td><td>&hellip;</td><td>&hellip;</td><td>&hellip;</td><td>&hellip;</td><td>&hellip;</td><td>&hellip;</td><td>&hellip;</td><td>&hellip;</td><td>&hellip;</td><td>&hellip;</td><td>&hellip;</td><td>&hellip;</td><td>&hellip;</td><td>&hellip;</td><td>&hellip;</td><td>&hellip;</td><td>&hellip;</td><td>&hellip;</td><td>&hellip;</td><td>&hellip;</td><td>&hellip;</td><td>&hellip;</td><td>&hellip;</td><td>&hellip;</td><td>&hellip;</td><td>&hellip;</td><td>&hellip;</td><td>&hellip;</td><td>&hellip;</td><td>&hellip;</td><td>&hellip;</td><td>&hellip;</td><td>&hellip;</td><td>&hellip;</td><td>&hellip;</td><td>&hellip;</td><td>&hellip;</td><td>&hellip;</td><td>&hellip;</td><td>&hellip;</td><td>&hellip;</td><td>&hellip;</td><td>&hellip;</td><td>&hellip;</td><td>&hellip;</td><td>&hellip;</td><td>&hellip;</td><td>&hellip;</td><td>&hellip;</td><td>&hellip;</td><td>&hellip;</td><td>&hellip;</td><td>&hellip;</td><td>&hellip;</td><td>&hellip;</td><td>&hellip;</td><td>&hellip;</td><td>&hellip;</td><td>&hellip;</td><td>&hellip;</td><td>&hellip;</td><td>&hellip;</td><td>&hellip;</td><td>&hellip;</td><td>&hellip;</td><td>&hellip;</td><td>&hellip;</td><td>&hellip;</td></tr><tr><td>202012310015</td><td>2020</td><td>12</td><td>31</td><td>&quot;12/31/2020&quot;</td><td>0</td><td>null</td><td>228</td><td>&quot;Yemen&quot;</td><td>10</td><td>&quot;Middle East &amp; North Africa&quot;</td><td>&quot;Al Hudaydah&quot;</td><td>&quot;Sabaa&quot;</td><td>15.305307</td><td>43.01949</td><td>2.0</td><td>0</td><td>null</td><td>&quot;12/31/2020: Assailants fired m…</td><td>1</td><td>1</td><td>1</td><td>0</td><td>null</td><td>null</td><td>0.0</td><td>1</td><td>0</td><td>3</td><td>&quot;Bombing/Explosion&quot;</td><td>null</td><td>null</td><td>null</td><td>null</td><td>14</td><td>&quot;Private Citizens &amp; Property&quot;</td><td>76.0</td><td>&hellip;</td><td>null</td><td>0.0</td><td>0.0</td><td>null</td><td>0.0</td><td>0.0</td><td>1</td><td>3.0</td><td>&quot;Minor (likely &lt; $1 million)&quot;</td><td>-99.0</td><td>&quot;Houses and buildings damaged&quot;</td><td>0.0</td><td>null</td><td>null</td><td>null</td><td>null</td><td>null</td><td>null</td><td>null</td><td>null</td><td>null</td><td>null</td><td>null</td><td>null</td><td>null</td><td>null</td><td>null</td><td>null</td><td>&quot;&quot;Al Houthi militia escalated i…</td><td>null</td><td>null</td><td>&quot;START Primary Collection&quot;</td><td>0</td><td>0</td><td>0</td><td>0</td><td>null</td></tr><tr><td>202012310016</td><td>2020</td><td>12</td><td>31</td><td>&quot;12/31/2020&quot;</td><td>0</td><td>null</td><td>228</td><td>&quot;Yemen&quot;</td><td>10</td><td>&quot;Middle East &amp; North Africa&quot;</td><td>&quot;Al Hudaydah&quot;</td><td>&quot;Beit Maghari&quot;</td><td>13.931337</td><td>43.478924</td><td>2.0</td><td>0</td><td>&quot;The incident occurred in the H…</td><td>&quot;12/31/2020: Assailants attempt…</td><td>1</td><td>1</td><td>1</td><td>0</td><td>null</td><td>null</td><td>0.0</td><td>1</td><td>0</td><td>3</td><td>&quot;Bombing/Explosion&quot;</td><td>null</td><td>null</td><td>null</td><td>null</td><td>14</td><td>&quot;Private Citizens &amp; Property&quot;</td><td>76.0</td><td>&hellip;</td><td>null</td><td>0.0</td><td>null</td><td>null</td><td>0.0</td><td>null</td><td>0</td><td>null</td><td>null</td><td>null</td><td>null</td><td>0.0</td><td>null</td><td>null</td><td>null</td><td>null</td><td>null</td><td>null</td><td>null</td><td>null</td><td>null</td><td>null</td><td>null</td><td>null</td><td>null</td><td>null</td><td>null</td><td>null</td><td>&quot;&quot;Al Houthi militia escalated i…</td><td>null</td><td>null</td><td>&quot;START Primary Collection&quot;</td><td>0</td><td>0</td><td>0</td><td>0</td><td>null</td></tr><tr><td>202012310017</td><td>2020</td><td>12</td><td>31</td><td>null</td><td>0</td><td>null</td><td>75</td><td>&quot;Germany&quot;</td><td>8</td><td>&quot;Western Europe&quot;</td><td>&quot;Lower Saxony&quot;</td><td>&quot;Leipzig&quot;</td><td>51.342239</td><td>12.374772</td><td>1.0</td><td>0</td><td>null</td><td>&quot;12/31/2020: Assailants set fir…</td><td>1</td><td>1</td><td>0</td><td>1</td><td>1.0</td><td>&quot;Insurgency/Guerilla Action&quot;</td><td>0.0</td><td>1</td><td>0</td><td>7</td><td>&quot;Facility/Infrastructure Attack&quot;</td><td>null</td><td>null</td><td>null</td><td>null</td><td>4</td><td>&quot;Military&quot;</td><td>35.0</td><td>&hellip;</td><td>0.0</td><td>0.0</td><td>0.0</td><td>0.0</td><td>0.0</td><td>0.0</td><td>1</td><td>4.0</td><td>&quot;Unknown&quot;</td><td>-99.0</td><td>&quot;Military vehicles damaged&quot;</td><td>0.0</td><td>null</td><td>null</td><td>null</td><td>null</td><td>null</td><td>null</td><td>null</td><td>null</td><td>null</td><td>null</td><td>null</td><td>null</td><td>null</td><td>null</td><td>null</td><td>null</td><td>&quot;&quot;Far-left arson attack suspect…</td><td>&quot;&quot;Fire of Bundeswehr vehicles i…</td><td>&quot;&quot;Anarchist Antifa Take Credit …</td><td>&quot;START Primary Collection&quot;</td><td>-9</td><td>-9</td><td>0</td><td>-9</td><td>null</td></tr><tr><td>202012310018</td><td>2020</td><td>12</td><td>31</td><td>null</td><td>0</td><td>null</td><td>4</td><td>&quot;Afghanistan&quot;</td><td>6</td><td>&quot;South Asia&quot;</td><td>&quot;Kabul&quot;</td><td>&quot;Kabul&quot;</td><td>34.523842</td><td>69.140304</td><td>1.0</td><td>0</td><td>&quot;The incident occurred in Khair…</td><td>&quot;12/31/2020: Assailants shot an…</td><td>1</td><td>1</td><td>1</td><td>0</td><td>null</td><td>null</td><td>0.0</td><td>1</td><td>0</td><td>2</td><td>&quot;Armed Assault&quot;</td><td>null</td><td>null</td><td>null</td><td>null</td><td>14</td><td>&quot;Private Citizens &amp; Property&quot;</td><td>83.0</td><td>&hellip;</td><td>1.0</td><td>0.0</td><td>0.0</td><td>0.0</td><td>0.0</td><td>0.0</td><td>0</td><td>null</td><td>null</td><td>null</td><td>null</td><td>0.0</td><td>null</td><td>null</td><td>null</td><td>null</td><td>null</td><td>null</td><td>null</td><td>null</td><td>null</td><td>null</td><td>null</td><td>null</td><td>null</td><td>null</td><td>null</td><td>null</td><td>&quot;&quot;Civil society activist and tr…</td><td>&quot;&quot;Terrorism Digest: 1-2 Jan 21,…</td><td>null</td><td>&quot;START Primary Collection&quot;</td><td>-9</td><td>-9</td><td>0</td><td>-9</td><td>null</td></tr><tr><td>202012310019</td><td>2020</td><td>12</td><td>31</td><td>null</td><td>1</td><td>null</td><td>33</td><td>&quot;Burkina Faso&quot;</td><td>11</td><td>&quot;Sub-Saharan Africa&quot;</td><td>&quot;Sahel&quot;</td><td>&quot;Kelbo&quot;</td><td>13.864252</td><td>-1.161453</td><td>1.0</td><td>0</td><td>null</td><td>&quot;12/31/2020: Assailants attacke…</td><td>1</td><td>1</td><td>0</td><td>1</td><td>1.0</td><td>&quot;Insurgency/Guerilla Action&quot;</td><td>0.0</td><td>1</td><td>0</td><td>2</td><td>&quot;Armed Assault&quot;</td><td>null</td><td>null</td><td>null</td><td>null</td><td>4</td><td>&quot;Military&quot;</td><td>39.0</td><td>&hellip;</td><td>5.0</td><td>0.0</td><td>0.0</td><td>0.0</td><td>0.0</td><td>0.0</td><td>0</td><td>null</td><td>null</td><td>null</td><td>null</td><td>-9.0</td><td>null</td><td>null</td><td>null</td><td>null</td><td>null</td><td>null</td><td>null</td><td>null</td><td>null</td><td>null</td><td>null</td><td>null</td><td>null</td><td>null</td><td>null</td><td>null</td><td>&quot;&quot;Terrorism Digest: 3-4 Jan 21,…</td><td>null</td><td>null</td><td>&quot;START Primary Collection&quot;</td><td>-9</td><td>-9</td><td>0</td><td>-9</td><td>null</td></tr></tbody></table></div>"
      ],
      "text/plain": [
       "shape: (209_706, 135)\n",
       "┌──────────────┬───────┬────────┬──────┬───┬──────────┬──────────┬─────────┬─────────┐\n",
       "│ eventid      ┆ iyear ┆ imonth ┆ iday ┆ … ┆ INT_IDEO ┆ INT_MISC ┆ INT_ANY ┆ related │\n",
       "│ ---          ┆ ---   ┆ ---    ┆ ---  ┆   ┆ ---      ┆ ---      ┆ ---     ┆ ---     │\n",
       "│ i64          ┆ i64   ┆ i64    ┆ i64  ┆   ┆ i64      ┆ i64      ┆ i64     ┆ str     │\n",
       "╞══════════════╪═══════╪════════╪══════╪═══╪══════════╪══════════╪═════════╪═════════╡\n",
       "│ 197000000001 ┆ 1970  ┆ 7      ┆ 2    ┆ … ┆ 0        ┆ 0        ┆ 0       ┆ null    │\n",
       "│ 197000000002 ┆ 1970  ┆ 0      ┆ 0    ┆ … ┆ 1        ┆ 1        ┆ 1       ┆ null    │\n",
       "│ 197001000001 ┆ 1970  ┆ 1      ┆ 0    ┆ … ┆ -9       ┆ 1        ┆ 1       ┆ null    │\n",
       "│ 197001000002 ┆ 1970  ┆ 1      ┆ 0    ┆ … ┆ -9       ┆ 1        ┆ 1       ┆ null    │\n",
       "│ 197001000003 ┆ 1970  ┆ 1      ┆ 0    ┆ … ┆ -9       ┆ 1        ┆ 1       ┆ null    │\n",
       "│ …            ┆ …     ┆ …      ┆ …    ┆ … ┆ …        ┆ …        ┆ …       ┆ …       │\n",
       "│ 202012310015 ┆ 2020  ┆ 12     ┆ 31   ┆ … ┆ 0        ┆ 0        ┆ 0       ┆ null    │\n",
       "│ 202012310016 ┆ 2020  ┆ 12     ┆ 31   ┆ … ┆ 0        ┆ 0        ┆ 0       ┆ null    │\n",
       "│ 202012310017 ┆ 2020  ┆ 12     ┆ 31   ┆ … ┆ -9       ┆ 0        ┆ -9      ┆ null    │\n",
       "│ 202012310018 ┆ 2020  ┆ 12     ┆ 31   ┆ … ┆ -9       ┆ 0        ┆ -9      ┆ null    │\n",
       "│ 202012310019 ┆ 2020  ┆ 12     ┆ 31   ┆ … ┆ -9       ┆ 0        ┆ -9      ┆ null    │\n",
       "└──────────────┴───────┴────────┴──────┴───┴──────────┴──────────┴─────────┴─────────┘"
      ]
     },
     "execution_count": 11,
     "metadata": {},
     "output_type": "execute_result"
    }
   ],
   "source": [
    "DATA_PATH = EXTERNAL_DATA_DIR / \"kaggle\" / \"gtd\"\n",
    "\n",
    "RAW_DATA = pl.DataFrame(pd.read_csv(DATA_PATH / \"globalterrorismdb_0522dist.csv\"))\n",
    "RAW_DATA"
   ]
  }
 ],
 "metadata": {
  "kernelspec": {
   "display_name": ".venv",
   "language": "python",
   "name": "python3"
  },
  "language_info": {
   "codemirror_mode": {
    "name": "ipython",
    "version": 3
   },
   "file_extension": ".py",
   "mimetype": "text/x-python",
   "name": "python",
   "nbconvert_exporter": "python",
   "pygments_lexer": "ipython3",
   "version": "3.12.9"
  }
 },
 "nbformat": 4,
 "nbformat_minor": 2
}
