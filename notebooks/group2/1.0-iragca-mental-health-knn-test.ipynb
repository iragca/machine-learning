{
 "cells": [
  {
   "cell_type": "code",
   "execution_count": 15,
   "metadata": {},
   "outputs": [],
   "source": [
    "import matplotlib.pyplot as plt\n",
    "import polars as pl\n",
    "import pandas as pd\n",
    "import seaborn as sns\n",
    "from ydata_profiling import ProfileReport\n",
    "\n",
    "from tqdm import tqdm\n",
    "from loguru import logger\n",
    "\n",
    "from machine_learning.config import EXTERNAL_DATA_DIR, MPLSTYLE_DIR, REPORTS_DIR\n",
    "\n",
    "plt.style.use(MPLSTYLE_DIR / \"iragca_ml.mplstyle\")"
   ]
  },
  {
   "cell_type": "code",
   "execution_count": 2,
   "metadata": {},
   "outputs": [
    {
     "name": "stdout",
     "output_type": "stream",
     "text": [
      "1- mental-illnesses-prevalence.csv\n",
      "2- burden-disease-from-each-mental-illness.csv\n",
      "3- adult-population-covered-in-primary-data-on-the-prevalence-of-major-depression.csv\n",
      "4- adult-population-covered-in-primary-data-on-the-prevalence-of-mental-illnesses.csv\n",
      "5- anxiety-disorders-treatment-gap.csv\n",
      "6- depressive-symptoms-across-us-population.csv\n",
      "7- number-of-countries-with-primary-data-on-prevalence-of-mental-illnesses-in-the-global-burden-of-disease-study.csv\n"
     ]
    }
   ],
   "source": [
    "DATA_PATH = EXTERNAL_DATA_DIR / \"kaggle\" / \"imtkaggleteam\"\n",
    "\n",
    "DATASETS = dict()\n",
    "\n",
    "for file in DATA_PATH.iterdir():\n",
    "    if file.suffix == \".csv\":\n",
    "        print(file.name)\n",
    "        DATASETS[file.stem[0]] = pl.read_csv(file)"
   ]
  },
  {
   "cell_type": "code",
   "execution_count": 3,
   "metadata": {},
   "outputs": [
    {
     "data": {
      "text/html": [
       "<div><style>\n",
       ".dataframe > thead > tr,\n",
       ".dataframe > tbody > tr {\n",
       "  text-align: right;\n",
       "  white-space: pre-wrap;\n",
       "}\n",
       "</style>\n",
       "<small>shape: (5, 8)</small><table border=\"1\" class=\"dataframe\"><thead><tr><th>Entity</th><th>Code</th><th>Year</th><th>Schizophrenia disorders (share of population) - Sex: Both - Age: Age-standardized</th><th>Depressive disorders (share of population) - Sex: Both - Age: Age-standardized</th><th>Anxiety disorders (share of population) - Sex: Both - Age: Age-standardized</th><th>Bipolar disorders (share of population) - Sex: Both - Age: Age-standardized</th><th>Eating disorders (share of population) - Sex: Both - Age: Age-standardized</th></tr><tr><td>str</td><td>str</td><td>i64</td><td>f64</td><td>f64</td><td>f64</td><td>f64</td><td>f64</td></tr></thead><tbody><tr><td>&quot;Low-income countries&quot;</td><td>null</td><td>2012</td><td>0.215539</td><td>4.659665</td><td>3.625562</td><td>0.548664</td><td>0.08283</td></tr><tr><td>&quot;Mauritius&quot;</td><td>&quot;MUS&quot;</td><td>2011</td><td>0.3028433</td><td>4.023178</td><td>3.8565311</td><td>0.337485</td><td>0.125921</td></tr><tr><td>&quot;American Samoa&quot;</td><td>&quot;ASM&quot;</td><td>2016</td><td>0.305845</td><td>2.6280975</td><td>4.0254774</td><td>0.2797356</td><td>0.128426</td></tr><tr><td>&quot;Haiti&quot;</td><td>&quot;HTI&quot;</td><td>2018</td><td>0.241357</td><td>3.6294103</td><td>4.6204476</td><td>0.843951</td><td>0.121482</td></tr><tr><td>&quot;Saudi Arabia&quot;</td><td>&quot;SAU&quot;</td><td>2006</td><td>0.261447</td><td>4.0944386</td><td>4.4302883</td><td>0.7653696</td><td>0.251602</td></tr></tbody></table></div>"
      ],
      "text/plain": [
       "shape: (5, 8)\n",
       "┌──────────────┬──────┬──────┬─────────────┬─────────────┬─────────────┬─────────────┬─────────────┐\n",
       "│ Entity       ┆ Code ┆ Year ┆ Schizophren ┆ Depressive  ┆ Anxiety     ┆ Bipolar     ┆ Eating      │\n",
       "│ ---          ┆ ---  ┆ ---  ┆ ia          ┆ disorders   ┆ disorders   ┆ disorders   ┆ disorders   │\n",
       "│ str          ┆ str  ┆ i64  ┆ disorders   ┆ (share of…  ┆ (share of   ┆ (share of   ┆ (share of   │\n",
       "│              ┆      ┆      ┆ (share…     ┆ ---         ┆ po…         ┆ po…         ┆ pop…        │\n",
       "│              ┆      ┆      ┆ ---         ┆ f64         ┆ ---         ┆ ---         ┆ ---         │\n",
       "│              ┆      ┆      ┆ f64         ┆             ┆ f64         ┆ f64         ┆ f64         │\n",
       "╞══════════════╪══════╪══════╪═════════════╪═════════════╪═════════════╪═════════════╪═════════════╡\n",
       "│ Low-income   ┆ null ┆ 2012 ┆ 0.215539    ┆ 4.659665    ┆ 3.625562    ┆ 0.548664    ┆ 0.08283     │\n",
       "│ countries    ┆      ┆      ┆             ┆             ┆             ┆             ┆             │\n",
       "│ Mauritius    ┆ MUS  ┆ 2011 ┆ 0.3028433   ┆ 4.023178    ┆ 3.8565311   ┆ 0.337485    ┆ 0.125921    │\n",
       "│ American     ┆ ASM  ┆ 2016 ┆ 0.305845    ┆ 2.6280975   ┆ 4.0254774   ┆ 0.2797356   ┆ 0.128426    │\n",
       "│ Samoa        ┆      ┆      ┆             ┆             ┆             ┆             ┆             │\n",
       "│ Haiti        ┆ HTI  ┆ 2018 ┆ 0.241357    ┆ 3.6294103   ┆ 4.6204476   ┆ 0.843951    ┆ 0.121482    │\n",
       "│ Saudi Arabia ┆ SAU  ┆ 2006 ┆ 0.261447    ┆ 4.0944386   ┆ 4.4302883   ┆ 0.7653696   ┆ 0.251602    │\n",
       "└──────────────┴──────┴──────┴─────────────┴─────────────┴─────────────┴─────────────┴─────────────┘"
      ]
     },
     "execution_count": 3,
     "metadata": {},
     "output_type": "execute_result"
    }
   ],
   "source": [
    "DATASETS[\"1\"].sample(5)"
   ]
  },
  {
   "cell_type": "code",
   "execution_count": 4,
   "metadata": {},
   "outputs": [
    {
     "data": {
      "text/html": [
       "<div><style>\n",
       ".dataframe > thead > tr,\n",
       ".dataframe > tbody > tr {\n",
       "  text-align: right;\n",
       "  white-space: pre-wrap;\n",
       "}\n",
       "</style>\n",
       "<small>shape: (5, 8)</small><table border=\"1\" class=\"dataframe\"><thead><tr><th>Entity</th><th>Code</th><th>Year</th><th>DALYs (rate) - Sex: Both - Age: Age-standardized - Cause: Depressive disorders</th><th>DALYs (rate) - Sex: Both - Age: Age-standardized - Cause: Schizophrenia</th><th>DALYs (rate) - Sex: Both - Age: Age-standardized - Cause: Bipolar disorder</th><th>DALYs (rate) - Sex: Both - Age: Age-standardized - Cause: Eating disorders</th><th>DALYs (rate) - Sex: Both - Age: Age-standardized - Cause: Anxiety disorders</th></tr><tr><td>str</td><td>str</td><td>i64</td><td>f64</td><td>f64</td><td>f64</td><td>f64</td><td>f64</td></tr></thead><tbody><tr><td>&quot;Vietnam&quot;</td><td>&quot;VNM&quot;</td><td>1999</td><td>382.3727</td><td>202.63898</td><td>73.11277</td><td>14.86394</td><td>217.76917</td></tr><tr><td>&quot;Central African Republic&quot;</td><td>&quot;CAF&quot;</td><td>1995</td><td>1091.8298</td><td>122.60952</td><td>111.911865</td><td>16.651552</td><td>393.87048</td></tr><tr><td>&quot;Congo&quot;</td><td>&quot;COG&quot;</td><td>2005</td><td>1073.3224</td><td>135.15547</td><td>116.30052</td><td>25.225908</td><td>353.14032</td></tr><tr><td>&quot;Nauru&quot;</td><td>&quot;NRU&quot;</td><td>2012</td><td>496.54883</td><td>177.13698</td><td>56.286434</td><td>19.621428</td><td>383.22137</td></tr><tr><td>&quot;Algeria&quot;</td><td>&quot;DZA&quot;</td><td>1995</td><td>750.99445</td><td>160.22092</td><td>163.86661</td><td>39.559963</td><td>445.68146</td></tr></tbody></table></div>"
      ],
      "text/plain": [
       "shape: (5, 8)\n",
       "┌──────────┬──────┬──────┬──────────────┬──────────────┬──────────────┬──────────────┬─────────────┐\n",
       "│ Entity   ┆ Code ┆ Year ┆ DALYs (rate) ┆ DALYs (rate) ┆ DALYs (rate) ┆ DALYs (rate) ┆ DALYs       │\n",
       "│ ---      ┆ ---  ┆ ---  ┆ - Sex: Both  ┆ - Sex: Both  ┆ - Sex: Both  ┆ - Sex: Both  ┆ (rate) -    │\n",
       "│ str      ┆ str  ┆ i64  ┆ - Age…       ┆ - Age…       ┆ - Age…       ┆ - Age…       ┆ Sex: Both - │\n",
       "│          ┆      ┆      ┆ ---          ┆ ---          ┆ ---          ┆ ---          ┆ Age…        │\n",
       "│          ┆      ┆      ┆ f64          ┆ f64          ┆ f64          ┆ f64          ┆ ---         │\n",
       "│          ┆      ┆      ┆              ┆              ┆              ┆              ┆ f64         │\n",
       "╞══════════╪══════╪══════╪══════════════╪══════════════╪══════════════╪══════════════╪═════════════╡\n",
       "│ Vietnam  ┆ VNM  ┆ 1999 ┆ 382.3727     ┆ 202.63898    ┆ 73.11277     ┆ 14.86394     ┆ 217.76917   │\n",
       "│ Central  ┆ CAF  ┆ 1995 ┆ 1091.8298    ┆ 122.60952    ┆ 111.911865   ┆ 16.651552    ┆ 393.87048   │\n",
       "│ African  ┆      ┆      ┆              ┆              ┆              ┆              ┆             │\n",
       "│ Republic ┆      ┆      ┆              ┆              ┆              ┆              ┆             │\n",
       "│ Congo    ┆ COG  ┆ 2005 ┆ 1073.3224    ┆ 135.15547    ┆ 116.30052    ┆ 25.225908    ┆ 353.14032   │\n",
       "│ Nauru    ┆ NRU  ┆ 2012 ┆ 496.54883    ┆ 177.13698    ┆ 56.286434    ┆ 19.621428    ┆ 383.22137   │\n",
       "│ Algeria  ┆ DZA  ┆ 1995 ┆ 750.99445    ┆ 160.22092    ┆ 163.86661    ┆ 39.559963    ┆ 445.68146   │\n",
       "└──────────┴──────┴──────┴──────────────┴──────────────┴──────────────┴──────────────┴─────────────┘"
      ]
     },
     "execution_count": 4,
     "metadata": {},
     "output_type": "execute_result"
    }
   ],
   "source": [
    "DATASETS[\"2\"].sample(5)"
   ]
  },
  {
   "cell_type": "code",
   "execution_count": 5,
   "metadata": {},
   "outputs": [
    {
     "data": {
      "text/html": [
       "<div><style>\n",
       ".dataframe > thead > tr,\n",
       ".dataframe > tbody > tr {\n",
       "  text-align: right;\n",
       "  white-space: pre-wrap;\n",
       "}\n",
       "</style>\n",
       "<small>shape: (5, 4)</small><table border=\"1\" class=\"dataframe\"><thead><tr><th>Entity</th><th>Code</th><th>Year</th><th>Major depression</th></tr><tr><td>str</td><td>str</td><td>i64</td><td>f64</td></tr></thead><tbody><tr><td>&quot;Southern Latin America&quot;</td><td>null</td><td>2008</td><td>16.5</td></tr><tr><td>&quot;Caribbean&quot;</td><td>null</td><td>2008</td><td>9.1</td></tr><tr><td>&quot;World&quot;</td><td>&quot;OWID_WRL&quot;</td><td>2008</td><td>35.4</td></tr><tr><td>&quot;Central Asia&quot;</td><td>null</td><td>2008</td><td>0.0</td></tr><tr><td>&quot;East Sub-Saharan Africa&quot;</td><td>null</td><td>2008</td><td>1.3</td></tr></tbody></table></div>"
      ],
      "text/plain": [
       "shape: (5, 4)\n",
       "┌─────────────────────────┬──────────┬──────┬──────────────────┐\n",
       "│ Entity                  ┆ Code     ┆ Year ┆ Major depression │\n",
       "│ ---                     ┆ ---      ┆ ---  ┆ ---              │\n",
       "│ str                     ┆ str      ┆ i64  ┆ f64              │\n",
       "╞═════════════════════════╪══════════╪══════╪══════════════════╡\n",
       "│ Southern Latin America  ┆ null     ┆ 2008 ┆ 16.5             │\n",
       "│ Caribbean               ┆ null     ┆ 2008 ┆ 9.1              │\n",
       "│ World                   ┆ OWID_WRL ┆ 2008 ┆ 35.4             │\n",
       "│ Central Asia            ┆ null     ┆ 2008 ┆ 0.0              │\n",
       "│ East Sub-Saharan Africa ┆ null     ┆ 2008 ┆ 1.3              │\n",
       "└─────────────────────────┴──────────┴──────┴──────────────────┘"
      ]
     },
     "execution_count": 5,
     "metadata": {},
     "output_type": "execute_result"
    }
   ],
   "source": [
    "DATASETS[\"3\"].sample(5)"
   ]
  },
  {
   "cell_type": "code",
   "execution_count": 6,
   "metadata": {},
   "outputs": [
    {
     "data": {
      "text/html": [
       "<div><style>\n",
       ".dataframe > thead > tr,\n",
       ".dataframe > tbody > tr {\n",
       "  text-align: right;\n",
       "  white-space: pre-wrap;\n",
       "}\n",
       "</style>\n",
       "<small>shape: (5, 9)</small><table border=\"1\" class=\"dataframe\"><thead><tr><th>Entity</th><th>Code</th><th>Year</th><th>Major depression</th><th>Bipolar disorder</th><th>Eating disorders</th><th>Dysthymia</th><th>Schizophrenia</th><th>Anxiety disorders</th></tr><tr><td>str</td><td>str</td><td>i64</td><td>f64</td><td>f64</td><td>f64</td><td>f64</td><td>str</td><td>f64</td></tr></thead><tbody><tr><td>&quot;West Sub-Saharan Africa&quot;</td><td>null</td><td>2008</td><td>46.6</td><td>47.0</td><td>0.0</td><td>46.6</td><td>&quot;0&quot;</td><td>46.6</td></tr><tr><td>&quot;Central Latin America&quot;</td><td>null</td><td>2008</td><td>49.8</td><td>34.5</td><td>71.0</td><td>46.0</td><td>&quot;0.7&quot;</td><td>69.7</td></tr><tr><td>&quot;Oceania&quot;</td><td>null</td><td>2008</td><td>0.0</td><td>0.0</td><td>0.0</td><td>0.0</td><td>&quot;0.4&quot;</td><td>0.0</td></tr><tr><td>&quot;Eastern Europe&quot;</td><td>null</td><td>2008</td><td>23.6</td><td>1.7</td><td>0.0</td><td>22.9</td><td>&quot;1.3&quot;</td><td>22.3</td></tr><tr><td>&quot;Tropical Latin America&quot;</td><td>null</td><td>2008</td><td>9.7</td><td>6.4</td><td>21.1</td><td>6.4</td><td>&quot;0&quot;</td><td>6.4</td></tr></tbody></table></div>"
      ],
      "text/plain": [
       "shape: (5, 9)\n",
       "┌─────────────┬──────┬──────┬─────────────┬───┬─────────────┬───────────┬─────────────┬────────────┐\n",
       "│ Entity      ┆ Code ┆ Year ┆ Major       ┆ … ┆ Eating      ┆ Dysthymia ┆ Schizophren ┆ Anxiety    │\n",
       "│ ---         ┆ ---  ┆ ---  ┆ depression  ┆   ┆ disorders   ┆ ---       ┆ ia          ┆ disorders  │\n",
       "│ str         ┆ str  ┆ i64  ┆ ---         ┆   ┆ ---         ┆ f64       ┆ ---         ┆ ---        │\n",
       "│             ┆      ┆      ┆ f64         ┆   ┆ f64         ┆           ┆ str         ┆ f64        │\n",
       "╞═════════════╪══════╪══════╪═════════════╪═══╪═════════════╪═══════════╪═════════════╪════════════╡\n",
       "│ West        ┆ null ┆ 2008 ┆ 46.6        ┆ … ┆ 0.0         ┆ 46.6      ┆ 0           ┆ 46.6       │\n",
       "│ Sub-Saharan ┆      ┆      ┆             ┆   ┆             ┆           ┆             ┆            │\n",
       "│ Africa      ┆      ┆      ┆             ┆   ┆             ┆           ┆             ┆            │\n",
       "│ Central     ┆ null ┆ 2008 ┆ 49.8        ┆ … ┆ 71.0        ┆ 46.0      ┆ 0.7         ┆ 69.7       │\n",
       "│ Latin       ┆      ┆      ┆             ┆   ┆             ┆           ┆             ┆            │\n",
       "│ America     ┆      ┆      ┆             ┆   ┆             ┆           ┆             ┆            │\n",
       "│ Oceania     ┆ null ┆ 2008 ┆ 0.0         ┆ … ┆ 0.0         ┆ 0.0       ┆ 0.4         ┆ 0.0        │\n",
       "│ Eastern     ┆ null ┆ 2008 ┆ 23.6        ┆ … ┆ 0.0         ┆ 22.9      ┆ 1.3         ┆ 22.3       │\n",
       "│ Europe      ┆      ┆      ┆             ┆   ┆             ┆           ┆             ┆            │\n",
       "│ Tropical    ┆ null ┆ 2008 ┆ 9.7         ┆ … ┆ 21.1        ┆ 6.4       ┆ 0           ┆ 6.4        │\n",
       "│ Latin       ┆      ┆      ┆             ┆   ┆             ┆           ┆             ┆            │\n",
       "│ America     ┆      ┆      ┆             ┆   ┆             ┆           ┆             ┆            │\n",
       "└─────────────┴──────┴──────┴─────────────┴───┴─────────────┴───────────┴─────────────┴────────────┘"
      ]
     },
     "execution_count": 6,
     "metadata": {},
     "output_type": "execute_result"
    }
   ],
   "source": [
    "DATASETS[\"4\"].sample(5)\n"
   ]
  },
  {
   "cell_type": "code",
   "execution_count": 7,
   "metadata": {},
   "outputs": [
    {
     "data": {
      "text/html": [
       "<div><style>\n",
       ".dataframe > thead > tr,\n",
       ".dataframe > tbody > tr {\n",
       "  text-align: right;\n",
       "  white-space: pre-wrap;\n",
       "}\n",
       "</style>\n",
       "<small>shape: (5, 6)</small><table border=\"1\" class=\"dataframe\"><thead><tr><th>Entity</th><th>Code</th><th>Year</th><th>Potentially adequate treatment, conditional</th><th>Other treatments, conditional</th><th>Untreated, conditional</th></tr><tr><td>str</td><td>str</td><td>i64</td><td>f64</td><td>f64</td><td>f64</td></tr></thead><tbody><tr><td>&quot;Italy&quot;</td><td>&quot;ITA&quot;</td><td>2002</td><td>9.1</td><td>20.6</td><td>70.3</td></tr><tr><td>&quot;Medellin, Colombia&quot;</td><td>null</td><td>2012</td><td>3.8</td><td>15.0</td><td>81.2</td></tr><tr><td>&quot;Mexico&quot;</td><td>&quot;MEX&quot;</td><td>2002</td><td>3.3</td><td>12.8</td><td>83.9</td></tr><tr><td>&quot;United States&quot;</td><td>&quot;USA&quot;</td><td>2003</td><td>16.1</td><td>26.2</td><td>57.7</td></tr><tr><td>&quot;Peru&quot;</td><td>&quot;PER&quot;</td><td>2005</td><td>1.1</td><td>16.8</td><td>82.1</td></tr></tbody></table></div>"
      ],
      "text/plain": [
       "shape: (5, 6)\n",
       "┌────────────────────┬──────┬──────┬─────────────┬───────────────────┬────────────────────────┐\n",
       "│ Entity             ┆ Code ┆ Year ┆ Potentially ┆ Other treatments, ┆ Untreated, conditional │\n",
       "│ ---                ┆ ---  ┆ ---  ┆ adequate    ┆ conditional       ┆ ---                    │\n",
       "│ str                ┆ str  ┆ i64  ┆ treatment…  ┆ ---               ┆ f64                    │\n",
       "│                    ┆      ┆      ┆ ---         ┆ f64               ┆                        │\n",
       "│                    ┆      ┆      ┆ f64         ┆                   ┆                        │\n",
       "╞════════════════════╪══════╪══════╪═════════════╪═══════════════════╪════════════════════════╡\n",
       "│ Italy              ┆ ITA  ┆ 2002 ┆ 9.1         ┆ 20.6              ┆ 70.3                   │\n",
       "│ Medellin, Colombia ┆ null ┆ 2012 ┆ 3.8         ┆ 15.0              ┆ 81.2                   │\n",
       "│ Mexico             ┆ MEX  ┆ 2002 ┆ 3.3         ┆ 12.8              ┆ 83.9                   │\n",
       "│ United States      ┆ USA  ┆ 2003 ┆ 16.1        ┆ 26.2              ┆ 57.7                   │\n",
       "│ Peru               ┆ PER  ┆ 2005 ┆ 1.1         ┆ 16.8              ┆ 82.1                   │\n",
       "└────────────────────┴──────┴──────┴─────────────┴───────────────────┴────────────────────────┘"
      ]
     },
     "execution_count": 7,
     "metadata": {},
     "output_type": "execute_result"
    }
   ],
   "source": [
    "DATASETS[\"5\"].sample(5)\n"
   ]
  },
  {
   "cell_type": "code",
   "execution_count": 8,
   "metadata": {},
   "outputs": [
    {
     "data": {
      "text/html": [
       "<div><style>\n",
       ".dataframe > thead > tr,\n",
       ".dataframe > tbody > tr {\n",
       "  text-align: right;\n",
       "  white-space: pre-wrap;\n",
       "}\n",
       "</style>\n",
       "<small>shape: (5, 7)</small><table border=\"1\" class=\"dataframe\"><thead><tr><th>Entity</th><th>Code</th><th>Year</th><th>Nearly every day</th><th>More than half the days</th><th>Several days</th><th>Not at all</th></tr><tr><td>str</td><td>str</td><td>i64</td><td>f64</td><td>f64</td><td>f64</td><td>f64</td></tr></thead><tbody><tr><td>&quot;Difficulty concentrating&quot;</td><td>null</td><td>2014</td><td>3.5</td><td>3.6</td><td>10.9</td><td>82.1</td></tr><tr><td>&quot;Low energy&quot;</td><td>null</td><td>2014</td><td>9.0</td><td>7.8</td><td>34.0</td><td>49.1</td></tr><tr><td>&quot;Average across symptoms&quot;</td><td>null</td><td>2014</td><td>4.4</td><td>4.3</td><td>15.0</td><td>76.3</td></tr><tr><td>&quot;Loss of interest&quot;</td><td>null</td><td>2014</td><td>4.4</td><td>5.4</td><td>16.3</td><td>73.8</td></tr><tr><td>&quot;Appetite change&quot;</td><td>null</td><td>2014</td><td>4.6</td><td>5.1</td><td>15.5</td><td>74.8</td></tr></tbody></table></div>"
      ],
      "text/plain": [
       "shape: (5, 7)\n",
       "┌──────────────────┬──────┬──────┬──────────────────┬──────────────────┬──────────────┬────────────┐\n",
       "│ Entity           ┆ Code ┆ Year ┆ Nearly every day ┆ More than half   ┆ Several days ┆ Not at all │\n",
       "│ ---              ┆ ---  ┆ ---  ┆ ---              ┆ the days         ┆ ---          ┆ ---        │\n",
       "│ str              ┆ str  ┆ i64  ┆ f64              ┆ ---              ┆ f64          ┆ f64        │\n",
       "│                  ┆      ┆      ┆                  ┆ f64              ┆              ┆            │\n",
       "╞══════════════════╪══════╪══════╪══════════════════╪══════════════════╪══════════════╪════════════╡\n",
       "│ Difficulty       ┆ null ┆ 2014 ┆ 3.5              ┆ 3.6              ┆ 10.9         ┆ 82.1       │\n",
       "│ concentrating    ┆      ┆      ┆                  ┆                  ┆              ┆            │\n",
       "│ Low energy       ┆ null ┆ 2014 ┆ 9.0              ┆ 7.8              ┆ 34.0         ┆ 49.1       │\n",
       "│ Average across   ┆ null ┆ 2014 ┆ 4.4              ┆ 4.3              ┆ 15.0         ┆ 76.3       │\n",
       "│ symptoms         ┆      ┆      ┆                  ┆                  ┆              ┆            │\n",
       "│ Loss of interest ┆ null ┆ 2014 ┆ 4.4              ┆ 5.4              ┆ 16.3         ┆ 73.8       │\n",
       "│ Appetite change  ┆ null ┆ 2014 ┆ 4.6              ┆ 5.1              ┆ 15.5         ┆ 74.8       │\n",
       "└──────────────────┴──────┴──────┴──────────────────┴──────────────────┴──────────────┴────────────┘"
      ]
     },
     "execution_count": 8,
     "metadata": {},
     "output_type": "execute_result"
    }
   ],
   "source": [
    "DATASETS[\"6\"].sample(5)\n"
   ]
  },
  {
   "cell_type": "code",
   "execution_count": 9,
   "metadata": {},
   "outputs": [
    {
     "data": {
      "text/html": [
       "<div><style>\n",
       ".dataframe > thead > tr,\n",
       ".dataframe > tbody > tr {\n",
       "  text-align: right;\n",
       "  white-space: pre-wrap;\n",
       "}\n",
       "</style>\n",
       "<small>shape: (5, 4)</small><table border=\"1\" class=\"dataframe\"><thead><tr><th>Entity</th><th>Code</th><th>Year</th><th>Number of countries with primary data on prevalence of mental disorders</th></tr><tr><td>str</td><td>str</td><td>i64</td><td>i64</td></tr></thead><tbody><tr><td>&quot;Autism spectrum disorders&quot;</td><td>null</td><td>2019</td><td>34</td></tr><tr><td>&quot;Opioid use disorders&quot;</td><td>null</td><td>2019</td><td>31</td></tr><tr><td>&quot;Bipolar disorder&quot;</td><td>null</td><td>2019</td><td>41</td></tr><tr><td>&quot;Personality disorders&quot;</td><td>null</td><td>2019</td><td>2</td></tr><tr><td>&quot;Other drug use disorders&quot;</td><td>null</td><td>2019</td><td>2</td></tr></tbody></table></div>"
      ],
      "text/plain": [
       "shape: (5, 4)\n",
       "┌───────────────────────────┬──────┬──────┬─────────────────────────────────┐\n",
       "│ Entity                    ┆ Code ┆ Year ┆ Number of countries with prima… │\n",
       "│ ---                       ┆ ---  ┆ ---  ┆ ---                             │\n",
       "│ str                       ┆ str  ┆ i64  ┆ i64                             │\n",
       "╞═══════════════════════════╪══════╪══════╪═════════════════════════════════╡\n",
       "│ Autism spectrum disorders ┆ null ┆ 2019 ┆ 34                              │\n",
       "│ Opioid use disorders      ┆ null ┆ 2019 ┆ 31                              │\n",
       "│ Bipolar disorder          ┆ null ┆ 2019 ┆ 41                              │\n",
       "│ Personality disorders     ┆ null ┆ 2019 ┆ 2                               │\n",
       "│ Other drug use disorders  ┆ null ┆ 2019 ┆ 2                               │\n",
       "└───────────────────────────┴──────┴──────┴─────────────────────────────────┘"
      ]
     },
     "execution_count": 9,
     "metadata": {},
     "output_type": "execute_result"
    }
   ],
   "source": [
    "DATASETS[\"7\"].sample(5)"
   ]
  },
  {
   "cell_type": "markdown",
   "metadata": {},
   "source": [
    "## Profiling"
   ]
  },
  {
   "cell_type": "code",
   "execution_count": 30,
   "metadata": {},
   "outputs": [
    {
     "name": "stdout",
     "output_type": "stream",
     "text": [
      "\u001b[32m2025-02-21 15:36:52.866\u001b[0m | \u001b[1mINFO    \u001b[0m | \u001b[36m__main__\u001b[0m:\u001b[36m<module>\u001b[0m:\u001b[36m6\u001b[0m - \u001b[1mProfiling datasets\u001b[0m\n",
      "\u001b[32m2025-02-21 15:36:52.867\u001b[0m | \u001b[34m\u001b[1mDEBUG   \u001b[0m | \u001b[36m__main__\u001b[0m:\u001b[36m<module>\u001b[0m:\u001b[36m9\u001b[0m - \u001b[34m\u001b[1mProfiling 1- mental-illnesses-prevalence\u001b[0m\n"
     ]
    },
    {
     "name": "stderr",
     "output_type": "stream",
     "text": [
      "Summarize dataset: 100%|██████████| 53/53 [00:04<00:00, 12.12it/s, Completed]                                                                                                                                                                   \n",
      "Generate report structure: 100%|██████████| 1/1 [00:02<00:00,  2.72s/it]\n",
      "Render HTML: 100%|██████████| 1/1 [00:01<00:00,  1.08s/it]\n",
      "Export report to file: 100%|██████████| 1/1 [00:00<00:00, 18.47it/s]\n"
     ]
    },
    {
     "name": "stdout",
     "output_type": "stream",
     "text": [
      "\u001b[32m2025-02-21 15:37:01.612\u001b[0m | \u001b[34m\u001b[1mDEBUG   \u001b[0m | \u001b[36m__main__\u001b[0m:\u001b[36m<module>\u001b[0m:\u001b[36m9\u001b[0m - \u001b[34m\u001b[1mProfiling 2- burden-disease-from-each-mental-illness\u001b[0m\n"
     ]
    },
    {
     "name": "stderr",
     "output_type": "stream",
     "text": [
      "Summarize dataset: 100%|██████████| 53/53 [00:03<00:00, 13.93it/s, Completed]                                                                                                                                                             \n",
      "Generate report structure: 100%|██████████| 1/1 [00:02<00:00,  2.46s/it]\n",
      "Render HTML: 100%|██████████| 1/1 [00:01<00:00,  1.04s/it]\n",
      "Export report to file: 100%|██████████| 1/1 [00:00<00:00, 90.87it/s]\n"
     ]
    },
    {
     "name": "stdout",
     "output_type": "stream",
     "text": [
      "\u001b[32m2025-02-21 15:37:09.203\u001b[0m | \u001b[34m\u001b[1mDEBUG   \u001b[0m | \u001b[36m__main__\u001b[0m:\u001b[36m<module>\u001b[0m:\u001b[36m9\u001b[0m - \u001b[34m\u001b[1mProfiling 3- adult-population-covered-in-primary-data-on-the-prevalence-of-major-depression\u001b[0m\n"
     ]
    },
    {
     "name": "stderr",
     "output_type": "stream",
     "text": [
      "Summarize dataset: 100%|██████████| 14/14 [00:00<00:00, 49.82it/s, Completed]                                 \n",
      "Generate report structure: 100%|██████████| 1/1 [00:00<00:00,  1.10it/s]\n",
      "Render HTML: 100%|██████████| 1/1 [00:00<00:00,  8.80it/s]\n",
      "Export report to file: 100%|██████████| 1/1 [00:00<00:00, 333.60it/s]\n"
     ]
    },
    {
     "name": "stdout",
     "output_type": "stream",
     "text": [
      "\u001b[32m2025-02-21 15:37:10.828\u001b[0m | \u001b[34m\u001b[1mDEBUG   \u001b[0m | \u001b[36m__main__\u001b[0m:\u001b[36m<module>\u001b[0m:\u001b[36m9\u001b[0m - \u001b[34m\u001b[1mProfiling 4- adult-population-covered-in-primary-data-on-the-prevalence-of-mental-illnesses\u001b[0m\n"
     ]
    },
    {
     "name": "stderr",
     "output_type": "stream",
     "text": [
      "Summarize dataset: 100%|██████████| 43/43 [00:02<00:00, 18.18it/s, Completed]                                   \n",
      "Generate report structure: 100%|██████████| 1/1 [00:01<00:00,  1.70s/it]\n",
      "Render HTML: 100%|██████████| 1/1 [00:00<00:00,  2.70it/s]\n",
      "Export report to file: 100%|██████████| 1/1 [00:00<00:00, 200.10it/s]\n"
     ]
    },
    {
     "name": "stdout",
     "output_type": "stream",
     "text": [
      "\u001b[32m2025-02-21 15:37:15.548\u001b[0m | \u001b[34m\u001b[1mDEBUG   \u001b[0m | \u001b[36m__main__\u001b[0m:\u001b[36m<module>\u001b[0m:\u001b[36m9\u001b[0m - \u001b[34m\u001b[1mProfiling 5- anxiety-disorders-treatment-gap\u001b[0m\n"
     ]
    },
    {
     "name": "stderr",
     "output_type": "stream",
     "text": [
      "Summarize dataset: 100%|██████████| 31/31 [00:01<00:00, 20.97it/s, Completed]                                                                                       \n",
      "Generate report structure: 100%|██████████| 1/1 [00:01<00:00,  1.42s/it]\n",
      "Render HTML: 100%|██████████| 1/1 [00:00<00:00,  3.57it/s]\n",
      "Export report to file: 100%|██████████| 1/1 [00:00<00:00, 200.06it/s]\n"
     ]
    },
    {
     "name": "stdout",
     "output_type": "stream",
     "text": [
      "\u001b[32m2025-02-21 15:37:18.985\u001b[0m | \u001b[34m\u001b[1mDEBUG   \u001b[0m | \u001b[36m__main__\u001b[0m:\u001b[36m<module>\u001b[0m:\u001b[36m9\u001b[0m - \u001b[34m\u001b[1mProfiling 6- depressive-symptoms-across-us-population\u001b[0m\n"
     ]
    },
    {
     "name": "stderr",
     "output_type": "stream",
     "text": [
      "Summarize dataset: 100%|██████████| 32/32 [00:01<00:00, 25.06it/s, Completed]                                               \n",
      "Generate report structure: 100%|██████████| 1/1 [00:01<00:00,  1.03s/it]\n",
      "Render HTML: 100%|██████████| 1/1 [00:00<00:00,  3.97it/s]\n",
      "Export report to file: 100%|██████████| 1/1 [00:00<00:00, 333.46it/s]\n"
     ]
    },
    {
     "name": "stdout",
     "output_type": "stream",
     "text": [
      "\u001b[32m2025-02-21 15:37:21.830\u001b[0m | \u001b[34m\u001b[1mDEBUG   \u001b[0m | \u001b[36m__main__\u001b[0m:\u001b[36m<module>\u001b[0m:\u001b[36m9\u001b[0m - \u001b[34m\u001b[1mProfiling 7- number-of-countries-with-primary-data-on-prevalence-of-mental-illnesses-in-the-global-burden-of-disease-study\u001b[0m\n"
     ]
    },
    {
     "name": "stderr",
     "output_type": "stream",
     "text": [
      "Summarize dataset: 100%|██████████| 14/14 [00:00<00:00, 49.22it/s, Completed]                                                                                                                                               \n",
      "Generate report structure: 100%|██████████| 1/1 [00:00<00:00,  1.79it/s]\n",
      "Render HTML: 100%|██████████| 1/1 [00:00<00:00,  9.13it/s]\n",
      "Export report to file: 100%|██████████| 1/1 [00:00<00:00, 333.62it/s]"
     ]
    },
    {
     "name": "stdout",
     "output_type": "stream",
     "text": [
      "\u001b[32m2025-02-21 15:37:23.066\u001b[0m | \u001b[32m\u001b[1mSUCCESS \u001b[0m | \u001b[36m__main__\u001b[0m:\u001b[36m<module>\u001b[0m:\u001b[36m12\u001b[0m - \u001b[32m\u001b[1mProfiling complete\u001b[0m\n"
     ]
    },
    {
     "name": "stderr",
     "output_type": "stream",
     "text": [
      "\n"
     ]
    }
   ],
   "source": [
    "SAVE_PATH = REPORTS_DIR / \"ydata\" / \"group2\"\n",
    "\n",
    "if not SAVE_PATH.exists():\n",
    "    SAVE_PATH.mkdir(parents=True, exist_ok=True)\n",
    "\n",
    "logger.info(\"Profiling datasets\")\n",
    "for file in DATA_PATH.iterdir():\n",
    "    if file.suffix == \".csv\":\n",
    "        logger.debug(f\"Profiling {file.stem}\")\n",
    "        report = ProfileReport(pd.read_csv(file), title=file.stem)\n",
    "        report.to_file(SAVE_PATH / f\"{file.stem}.html\")\n",
    "logger.success(\"Profiling complete\")"
   ]
  },
  {
   "cell_type": "markdown",
   "metadata": {},
   "source": [
    "### Widgets"
   ]
  },
  {
   "cell_type": "code",
   "execution_count": 28,
   "metadata": {},
   "outputs": [
    {
     "name": "stderr",
     "output_type": "stream",
     "text": [
      "Summarize dataset: 100%|██████████| 53/53 [00:03<00:00, 13.35it/s, Completed]                                                                                                                                                                   \n",
      "Generate report structure: 100%|██████████| 1/1 [00:03<00:00,  3.05s/it]\n",
      "Render widgets:   0%|          | 0/1 [00:00<?, ?it/s]"
     ]
    },
    {
     "name": "stderr",
     "output_type": "stream",
     "text": [
      "                                                             \r"
     ]
    },
    {
     "data": {
      "application/vnd.jupyter.widget-view+json": {
       "model_id": "41c014e9fc06406fa0fd55929796eb81",
       "version_major": 2,
       "version_minor": 0
      },
      "text/plain": [
       "VBox(children=(Tab(children=(Tab(children=(GridBox(children=(VBox(children=(GridspecLayout(children=(HTML(valu…"
      ]
     },
     "metadata": {},
     "output_type": "display_data"
    }
   ],
   "source": [
    "ProfileReport(DATASETS[\"1\"].to_pandas()).to_widgets()"
   ]
  },
  {
   "cell_type": "code",
   "execution_count": 29,
   "metadata": {},
   "outputs": [
    {
     "name": "stderr",
     "output_type": "stream",
     "text": [
      "Summarize dataset: 100%|██████████| 53/53 [00:04<00:00, 11.59it/s, Completed]                                                                                                                                                             \n",
      "Generate report structure: 100%|██████████| 1/1 [00:02<00:00,  2.73s/it]\n",
      "Render widgets:   0%|          | 0/1 [00:00<?, ?it/s]"
     ]
    },
    {
     "name": "stderr",
     "output_type": "stream",
     "text": [
      "                                                             \r"
     ]
    },
    {
     "data": {
      "application/vnd.jupyter.widget-view+json": {
       "model_id": "936f4d875e0f4ea48ad4b4dcadc5765f",
       "version_major": 2,
       "version_minor": 0
      },
      "text/plain": [
       "VBox(children=(Tab(children=(Tab(children=(GridBox(children=(VBox(children=(GridspecLayout(children=(HTML(valu…"
      ]
     },
     "metadata": {},
     "output_type": "display_data"
    }
   ],
   "source": [
    "ProfileReport(DATASETS[\"2\"].to_pandas()).to_widgets()"
   ]
  }
 ],
 "metadata": {
  "kernelspec": {
   "display_name": ".venv",
   "language": "python",
   "name": "python3"
  },
  "language_info": {
   "codemirror_mode": {
    "name": "ipython",
    "version": 3
   },
   "file_extension": ".py",
   "mimetype": "text/x-python",
   "name": "python",
   "nbconvert_exporter": "python",
   "pygments_lexer": "ipython3",
   "version": "3.12.9"
  }
 },
 "nbformat": 4,
 "nbformat_minor": 2
}
